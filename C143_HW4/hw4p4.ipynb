{
 "cells": [
  {
   "cell_type": "markdown",
   "metadata": {},
   "source": [
    "## Homework 4, Problem 4 Classification on real data\n",
    "\n",
    "ECE C143A/C243A, Spring Quarter 2023, Prof. J.C. Kao, TAs T. Monsoor, R. Gore, D. Singla"
   ]
  },
  {
   "cell_type": "markdown",
   "metadata": {},
   "source": [
    "## Background\n",
    "Neural prosthetic systems can be built based on classifying neural activity related to planning. As described in class, this is analogous to mapping patterns of neural activity to keys on a keyboard.\n",
    "In this problem, we will apply the results of Problems 1 and 2 to real neural data. The neural data were recorded using a 100-electrode array in premotor cortex of a macaque monkey1. The dataset can be found on BruinLearn as `ps4_realdata.mat`.\n",
    "\n",
    "The following describes the data format. The `.mat` file is loaded into Python as a dictionary with two keys: `train_trial` contains the training data and `test_trial` contains the test data. Each of these contains spike trains recorded simultaneously from 97 neurons while the monkey reached 91 times along each of 8 different reaching angles.\n",
    "\n",
    "The spike train recorded from the $i_{th}$ neuron on the $n_{th}$ trial of the $k_{th}$ reaching angle is accessed as \n",
    "\n",
    "`data['train_trial'][n,k][1][i,:]`\n",
    "\n",
    "where n = 0,...,90, k = 0,...,7, and i = 0, . . . , 96.  The [1] in between [n,k] and [i,:] does not mean anything for this assignment and is simply an \"artifact\" of how the data is structured. A spike train is represented as a sequence of zeros and ones, where time is discretized in 1 ms steps. A zero indicates that the neuron did not spike in the 1 ms bin, whereas a one indicates that the neuron spiked once in the 1 ms bin. The structure test trial has the same format as train trial.\n",
    "\n",
    "Each spike train is 700 ms long (and thus represented by an array of length 700).  This comprises a 200ms baseline period (before the reach target turned on), a 500ms planning period (after the reach target turned on).  Because it takes time for information about the reach target to arrive in premotor cortex (due to the time required for action potentials to propagate and for visual processing), we will ignore the first 150ms of the planning period.  *** FOR THIS PROBLEM, we will take spike counts for each neuron within a single 200ms bin starting 150ms after the reach target turns on. ***\n",
    "\n",
    "In other words, to calculate firing rates, you will calculate it over the 200ms window: \n",
    "\n",
    "`data['train_trial'][n,k][1][i,350:550]`"
   ]
  },
  {
   "cell_type": "code",
   "execution_count": 182,
   "metadata": {
    "tags": []
   },
   "outputs": [
    {
     "name": "stdout",
     "output_type": "stream",
     "text": [
      "91\n",
      "8\n",
      "The autoreload extension is already loaded. To reload it, use:\n",
      "  %reload_ext autoreload\n"
     ]
    }
   ],
   "source": [
    "import numpy as np\n",
    "import numpy.matlib as npm\n",
    "import matplotlib.pyplot as plt\n",
    "import scipy.special\n",
    "import scipy.io as sio\n",
    "import math\n",
    "\n",
    "data = sio.loadmat('ps4_realdata.mat') # load the .mat file.\n",
    "NumTrainData = data['train_trial'].shape[0]\n",
    "NumClass = data['train_trial'].shape[1]\n",
    "NumTestData = data['test_trial'].shape[0]\n",
    "print(NumTrainData)\n",
    "print(NumClass)\n",
    "# Reloading any code written in external .py files.\n",
    "%load_ext autoreload\n",
    "%autoreload 2"
   ]
  },
  {
   "cell_type": "markdown",
   "metadata": {},
   "source": [
    "### (a) (8 points) \n",
    "Fit the ML parameters of model i) to the training data (91 × 8 observations of a length 97 array of neuron firing rates). \n",
    "\n",
    "To calculate the firing rates, use a single 200ms bin starting from 150ms after the target turns on.  This corresponds to using `data['train_trial'][n,k][1][i, 350:550]` to calculate all firing rates.  This corresponds to a 200ms window that turns on 150ms after the reach turns on.\n",
    "\n",
    "Then, use these parameters to classify the test data (91 × 8 data points) according to the decision rule (1). What is the percent of test data points correctly classified?"
   ]
  },
  {
   "cell_type": "code",
   "execution_count": 183,
   "metadata": {
    "tags": []
   },
   "outputs": [],
   "source": [
    "##4a\n",
    "\n",
    "# Calculate the firing rates.\n",
    "\n",
    "trainDataArr =  np.zeros((NumClass,NumTrainData,97)) # contains the firing rates for all neurons on all 8 x 91 trials in the training set\n",
    "testDataArr =  np.zeros((NumClass,NumTestData,97)) # for the testing set.\n",
    "\n",
    "for classIX in range(NumClass): # 8\n",
    "    for trainDataIX in range(NumTrainData):   # 91\n",
    "        trainDataArr[classIX,trainDataIX,:] = np.sum(data['train_trial'][trainDataIX,classIX][1][:,350:550],1)\n",
    "    for testDataIX in range(NumTestData):  # 91      \n",
    "        testDataArr[classIX,testDataIX,:]=np.sum(data['test_trial'][testDataIX,classIX][1][:,350:550],1)\n",
    "#====================================================#\n",
    "# YOUR CODE HERE:\n",
    "#   Fit the ML parameters of model i) to training data\n",
    "#====================================================#\n",
    "\n",
    "# trainDataArr[0] = class 1\n",
    "# trainDataArr[class][91 trials][97 neurons]\n",
    "\n",
    "pis = []\n",
    "tot_n = 8*91\n",
    "for classIX in range(8):\n",
    "    curr_n = len(trainDataArr[classIX])\n",
    "    pis += [curr_n/tot_n]\n",
    "# pis = 8 len array of each class's pi\n",
    "\n",
    "modParam1 = {}\n",
    "modParam1['pi'] = pis\n",
    "modParam1['cov'] = np.zeros((97,97)) \n",
    "modParam1['mean'] = np.zeros((NumClass,97))   \n",
    "\n",
    "for classIX in range(NumClass):\n",
    "    for i in range(97): modParam1['mean'][classIX][i] = np.mean(trainDataArr[classIX][:,i]) \n",
    "for classIX in range(NumClass): modParam1['cov'] += (trainDataArr[classIX].shape[0])/tot_n*(np.cov(trainDataArr[classIX].T, bias=True))\n",
    "    \n",
    "# COVARIANCE STEPS:\n",
    "#     subtract class specific means for each class from each neuron\n",
    "#     feed in [neuron1, neuron2] where data has had means subtracted\n",
    "#====================================================#\n",
    "# END YOUR CODE\n",
    "#====================================================# "
   ]
  },
  {
   "cell_type": "code",
   "execution_count": 190,
   "metadata": {
    "tags": []
   },
   "outputs": [
    {
     "name": "stdout",
     "output_type": "stream",
     "text": [
      "Accuracy:  0.9601648351648352\n"
     ]
    }
   ],
   "source": [
    "#====================================================#\n",
    "# YOUR CODE HERE:\n",
    "#   Classify the test data and print the accuracy\n",
    "#====================================================#\n",
    "dic = np.zeros((8,91))\n",
    "prob = np.zeros(8)\n",
    "acc = 0\n",
    "\n",
    "for tria in range(91):\n",
    "    for i in range(8):\n",
    "        y = testDataArr[i][tria][:]\n",
    "        for classIX in range(8):\n",
    "            meanIX = modParam1['mean'][classIX][:]\n",
    "            covIX = modParam1['cov']\n",
    "            prob[classIX] = -(0.5)*np.matmul((y - meanIX).T, np.matmul(np.linalg.inv(covIX),y - meanIX))\n",
    "        dic[i][tria] = np.argmax(prob)\n",
    "        if(dic[i][tria] == i):\n",
    "            acc += 1\n",
    "            \n",
    "print('Accuracy: ', acc/(8*91))\n",
    "#====================================================#\n",
    "# END YOUR CODE\n",
    "#====================================================# "
   ]
  },
  {
   "cell_type": "markdown",
   "metadata": {},
   "source": [
    "#### Question:\n",
    "What is the percent of test data points correctly classified?"
   ]
  },
  {
   "cell_type": "markdown",
   "metadata": {},
   "source": [
    "#### Your answer: \n",
    "96 percent!"
   ]
  },
  {
   "cell_type": "markdown",
   "metadata": {},
   "source": [
    "### (b) (6 points) \n",
    "Repeat part (a) for model ii). You `should encounter a Python error` when classifying the test data. What is this error? Why did the Python error occur? What would we need to do to correct this error?\n",
    "\n",
    "To be concrete, the output of this cell should be a `Python error` and that's all fine.  But we want you to understand what the error is so we can fix it later.\n"
   ]
  },
  {
   "cell_type": "code",
   "execution_count": 180,
   "metadata": {
    "tags": []
   },
   "outputs": [],
   "source": [
    "##4b\n",
    "\n",
    "#====================================================#\n",
    "# YOUR CODE HERE:\n",
    "# Fit the ML parameters of model ii) to training data\n",
    "#====================================================#\n",
    "modParam2 = {} \n",
    "\n",
    "# trainDataArr[0] = class 1\n",
    "# trainDataArr[class][91 trials][97 neurons]\n",
    "\n",
    "pis = []\n",
    "tot_n = 8*91\n",
    "for classIX in range(8):\n",
    "    curr_n = len(trainDataArr[classIX])\n",
    "    pis += [curr_n/tot_n]\n",
    "# pis = 8 len array of each class's pi\n",
    "\n",
    "modParam2['pi'] = pis\n",
    "modParam2['cov'] = np.zeros((97,97)) \n",
    "modParam2['mean'] = np.zeros((NumClass,97))   \n",
    "\n",
    "for classIX in range(NumClass):\n",
    "    for neur in range(97):\n",
    "        modParam2['mean'][classIX][neur] = np.mean(trainDataArr[classIX][:,i])\n",
    "\n",
    "modParam2['cov'] = np.zeros((NumClass,97,97))\n",
    "for classIX in range(NumClass):\n",
    "    modParam2['cov'][classIX] = np.cov(trainDataArr[classIX].T, bias=True)\n",
    "\n",
    "#====================================================#\n",
    "# END YOUR CODE\n",
    "#====================================================# \n"
   ]
  },
  {
   "cell_type": "code",
   "execution_count": 191,
   "metadata": {
    "tags": []
   },
   "outputs": [
    {
     "ename": "LinAlgError",
     "evalue": "Singular matrix",
     "output_type": "error",
     "traceback": [
      "\u001b[0;31m---------------------------------------------------------------------------\u001b[0m",
      "\u001b[0;31mLinAlgError\u001b[0m                               Traceback (most recent call last)",
      "Cell \u001b[0;32mIn [191], line 15\u001b[0m\n\u001b[1;32m     13\u001b[0m     meanIX \u001b[38;5;241m=\u001b[39m modParam2[\u001b[38;5;124m'\u001b[39m\u001b[38;5;124mmean\u001b[39m\u001b[38;5;124m'\u001b[39m][classIX][:]\n\u001b[1;32m     14\u001b[0m     covIX \u001b[38;5;241m=\u001b[39m modParam2[\u001b[38;5;124m'\u001b[39m\u001b[38;5;124mcov\u001b[39m\u001b[38;5;124m'\u001b[39m]\n\u001b[0;32m---> 15\u001b[0m     prob[classIX] \u001b[38;5;241m=\u001b[39m \u001b[38;5;241m-\u001b[39m(\u001b[38;5;241m0.5\u001b[39m)\u001b[38;5;241m*\u001b[39mnp\u001b[38;5;241m.\u001b[39mmatmul((y \u001b[38;5;241m-\u001b[39m meanIX)\u001b[38;5;241m.\u001b[39mT, np\u001b[38;5;241m.\u001b[39mmatmul(\u001b[43mnp\u001b[49m\u001b[38;5;241;43m.\u001b[39;49m\u001b[43mlinalg\u001b[49m\u001b[38;5;241;43m.\u001b[39;49m\u001b[43minv\u001b[49m\u001b[43m(\u001b[49m\u001b[43mcovIX\u001b[49m\u001b[43m)\u001b[49m,y \u001b[38;5;241m-\u001b[39m meanIX))\n\u001b[1;32m     16\u001b[0m dic[i][trial] \u001b[38;5;241m=\u001b[39m np\u001b[38;5;241m.\u001b[39margmax(prob)\n\u001b[1;32m     17\u001b[0m \u001b[38;5;28;01mif\u001b[39;00m(dic[i][trial] \u001b[38;5;241m==\u001b[39m i):\n",
      "File \u001b[0;32m<__array_function__ internals>:180\u001b[0m, in \u001b[0;36minv\u001b[0;34m(*args, **kwargs)\u001b[0m\n",
      "File \u001b[0;32m/Library/Frameworks/Python.framework/Versions/3.11/lib/python3.11/site-packages/numpy/linalg/linalg.py:552\u001b[0m, in \u001b[0;36minv\u001b[0;34m(a)\u001b[0m\n\u001b[1;32m    550\u001b[0m signature \u001b[38;5;241m=\u001b[39m \u001b[38;5;124m'\u001b[39m\u001b[38;5;124mD->D\u001b[39m\u001b[38;5;124m'\u001b[39m \u001b[38;5;28;01mif\u001b[39;00m isComplexType(t) \u001b[38;5;28;01melse\u001b[39;00m \u001b[38;5;124m'\u001b[39m\u001b[38;5;124md->d\u001b[39m\u001b[38;5;124m'\u001b[39m\n\u001b[1;32m    551\u001b[0m extobj \u001b[38;5;241m=\u001b[39m get_linalg_error_extobj(_raise_linalgerror_singular)\n\u001b[0;32m--> 552\u001b[0m ainv \u001b[38;5;241m=\u001b[39m \u001b[43m_umath_linalg\u001b[49m\u001b[38;5;241;43m.\u001b[39;49m\u001b[43minv\u001b[49m\u001b[43m(\u001b[49m\u001b[43ma\u001b[49m\u001b[43m,\u001b[49m\u001b[43m \u001b[49m\u001b[43msignature\u001b[49m\u001b[38;5;241;43m=\u001b[39;49m\u001b[43msignature\u001b[49m\u001b[43m,\u001b[49m\u001b[43m \u001b[49m\u001b[43mextobj\u001b[49m\u001b[38;5;241;43m=\u001b[39;49m\u001b[43mextobj\u001b[49m\u001b[43m)\u001b[49m\n\u001b[1;32m    553\u001b[0m \u001b[38;5;28;01mreturn\u001b[39;00m wrap(ainv\u001b[38;5;241m.\u001b[39mastype(result_t, copy\u001b[38;5;241m=\u001b[39m\u001b[38;5;28;01mFalse\u001b[39;00m))\n",
      "File \u001b[0;32m/Library/Frameworks/Python.framework/Versions/3.11/lib/python3.11/site-packages/numpy/linalg/linalg.py:89\u001b[0m, in \u001b[0;36m_raise_linalgerror_singular\u001b[0;34m(err, flag)\u001b[0m\n\u001b[1;32m     88\u001b[0m \u001b[38;5;28;01mdef\u001b[39;00m \u001b[38;5;21m_raise_linalgerror_singular\u001b[39m(err, flag):\n\u001b[0;32m---> 89\u001b[0m     \u001b[38;5;28;01mraise\u001b[39;00m LinAlgError(\u001b[38;5;124m\"\u001b[39m\u001b[38;5;124mSingular matrix\u001b[39m\u001b[38;5;124m\"\u001b[39m)\n",
      "\u001b[0;31mLinAlgError\u001b[0m: Singular matrix"
     ]
    }
   ],
   "source": [
    "#====================================================#\n",
    "# YOUR CODE HERE:\n",
    "#   Classify the test data and print the accuracy\n",
    "#====================================================#\n",
    "dic = np.zeros((8,91))\n",
    "prob = np.zeros(8)\n",
    "acc = 0\n",
    "\n",
    "for trial in range(91):\n",
    "    for i in range(8):\n",
    "        y = testDataArr[i][trial][:]\n",
    "        for classIX in range(8):\n",
    "            meanIX = modParam2['mean'][classIX][:]\n",
    "            covIX = modParam2['cov']\n",
    "            prob[classIX] = -(0.5)*np.matmul((y - meanIX).T, np.matmul(np.linalg.inv(covIX),y - meanIX))\n",
    "        dic[i][trial] = np.argmax(prob)\n",
    "        if(dic[i][trial] == i):\n",
    "            acc += 1\n",
    "            \n",
    "print('Accuracy: ', acc/(8*91))\n",
    "#====================================================#\n",
    "# END YOUR CODE\n",
    "#====================================================# "
   ]
  },
  {
   "cell_type": "markdown",
   "metadata": {},
   "source": [
    "#### Question:\n",
    "Why did the python error occur? What would we need to do to correct this error?"
   ]
  },
  {
   "cell_type": "markdown",
   "metadata": {},
   "source": [
    "#### Your answer:  \n",
    "Because this model has class specific covariances, the matrix is not invertible. Therefore, np.linalg.inv(covIX) runs into an error.\n",
    "To overcome this, we may add random noise to the covariance matrix, or remove offending neurons."
   ]
  },
  {
   "cell_type": "markdown",
   "metadata": {},
   "source": [
    "### (c) (8 points) \n",
    "Correct the problem from part (b) by detecting and then removing offending neurons that cause the error. Now, what is the percent of test data points correctly classified? Is it higher or lower than your answer to part (a)? Why might this be?"
   ]
  },
  {
   "cell_type": "code",
   "execution_count": 192,
   "metadata": {
    "tags": []
   },
   "outputs": [
    {
     "name": "stdout",
     "output_type": "stream",
     "text": [
      "Accuracy:  0.4409340659340659\n"
     ]
    }
   ],
   "source": [
    "##4c\n",
    "neuronsToRemove = []\n",
    "#====================================================#\n",
    "# YOUR CODE HERE:\n",
    "#   Detect and then remove the offending neurons, so that \n",
    "#   you no longer run into the bug in part (b).\n",
    "#====================================================#\n",
    "trainArr = np.zeros((8,91,97))\n",
    "testArr = np.zeros((8,91,97))\n",
    "for classIX in range(8):\n",
    "    for trainDataIX in range(NumTrainData): trainArr[classIX][trainDataIX][:] = np.sum(data['train_trial'][trainDataIX,classIX][1][:,350:550],1)\n",
    "    for testDataIX in range(NumTestData): testArr[classIX][testDataIX][:] = np.sum(data['test_trial'][testDataIX,classIX][1][:,350:550],1)\n",
    "\n",
    "for classIX in range(8):\n",
    "    for neuron in range(97):\n",
    "        fr = trainArr[classIX][:,neuron]\n",
    "        if np.sum(fr) == 0:\n",
    "            neuronsToRemove.append(neuron)\n",
    "            \n",
    "trainArr = np.delete(trainDataArr,list(set(neuronsToRemove)),2) \n",
    "testArr = np.delete(testDataArr,list(set(neuronsToRemove)),2)\n",
    "#====================================================#\n",
    "# END YOUR CODE\n",
    "#====================================================# \n",
    "##\n",
    "#====================================================#\n",
    "# YOUR CODE HERE:\n",
    "# Fit the ML parameters,classify the test data and print the accuracy\n",
    "#====================================================#\n",
    "modParam2 = {} \n",
    "\n",
    "# trainDataArr[0] = class 1\n",
    "# trainDataArr[class][91 trials][97 neurons]\n",
    "\n",
    "pis = []\n",
    "tot_n = 8*91\n",
    "for classIX in range(8):\n",
    "    curr_n = len(trainArr[classIX])\n",
    "    pis += [curr_n/tot_n]\n",
    "# pis = 8 len array of each class's pi\n",
    "\n",
    "modParam2['pi'] = pis\n",
    "modParam2['cov'] = np.zeros((87,87)) \n",
    "modParam2['mean'] = np.zeros((NumClass,87))   \n",
    "\n",
    "for classIX in range(NumClass):\n",
    "    for i in range(87):\n",
    "        modParam2['mean'][classIX][i] = np.mean(trainArr[classIX][:,i])\n",
    "\n",
    "modParam2['cov'] = np.zeros((NumClass,87,87))\n",
    "for classIX in range(NumClass):\n",
    "    modParam2['cov'][classIX] = np.cov(trainArr[classIX].T, bias=True)\n",
    "    \n",
    "dic = np.zeros((8,91))\n",
    "prob = np.zeros(8)\n",
    "acc2 = 0\n",
    "\n",
    "for trial in range(91):\n",
    "    for i in range(8): \n",
    "        y = testArr[i][trial][:]\n",
    "        for classIX in range(8):\n",
    "            meanIX = modParam2['mean'][classIX,:]\n",
    "            covIX = modParam2['cov'][classIX]\n",
    "            prob[classIX] = np.log(modParam2['pi'][classIX])-(1/2)*np.matmul((y-meanIX).T, np.matmul(np.linalg.inv(covIX),y-meanIX))-(1/2)*np.log(np.linalg.det(covIX))\n",
    "        \n",
    "        dic[i][trial] = np.argmax(prob)\n",
    "       \n",
    "        if(dic[i][trial] == i):\n",
    "            acc2 += 1\n",
    "            \n",
    "print('Accuracy: ', acc2/(8*91))\n",
    "#====================================================#\n",
    "# END YOUR CODE\n",
    "#====================================================#"
   ]
  },
  {
   "cell_type": "markdown",
   "metadata": {},
   "source": [
    "#### Question:\n",
    "What is the percent of test data points correctly classified? Is it higher or lower than your answer to part (a)? Why might this be?"
   ]
  },
  {
   "cell_type": "markdown",
   "metadata": {},
   "source": [
    "#### Your answer:  44.1%, which is lower. We've pruned our data and lost out on some information, likely contributing to the decrease in performance. Our first model performed better.\n"
   ]
  },
  {
   "cell_type": "markdown",
   "metadata": {},
   "source": [
    "### (d) (8 points) \n",
    "Now we classify using a naive Bayes model. Repeat part (a) for model iii). Keep the convention in part (c), where offending neurons were removed from the analysis."
   ]
  },
  {
   "cell_type": "code",
   "execution_count": 168,
   "metadata": {
    "tags": []
   },
   "outputs": [
    {
     "name": "stdout",
     "output_type": "stream",
     "text": [
      "Accuracy:  0.92\n"
     ]
    }
   ],
   "source": [
    "##4d\n",
    "#====================================================#\n",
    "# YOUR CODE HERE:\n",
    "# Fit the ML parameters,classify the test data and print the accuracy\n",
    "#====================================================#\n",
    "modParam3 = {}\n",
    "pis = []\n",
    "tot_n = 8*91\n",
    "for classIX in range(8):\n",
    "    curr_n = len(trainArr[classIX])\n",
    "    pis += [curr_n/tot_n]\n",
    "# pis = 8 len array of each class's pi\n",
    "modParam3['pi'] = pis\n",
    "x, dud, y = np.shape(trainArr)\n",
    "mean = np.zeros((x,y))\n",
    "for classIX in range(8):\n",
    "    for i in range(y): mean[classIX][i] = np.mean(trainArr[classIX][:][i])\n",
    "modParam3['mean'] = mean\n",
    "\n",
    "dic2 = np.zeros((8,91))\n",
    "prob2 = np.zeros(8)\n",
    "acc2 = 0\n",
    "param = y\n",
    "for trial in range(91):\n",
    "    for i in range(8):\n",
    "        ar = testArr[i][trial][:]\n",
    "        for classIX in range(8):\n",
    "            meanIX = modParam3['mean'][classIX][:]\n",
    "            # covIX = modParam3['cov']\n",
    "            prb = 0\n",
    "            for el in range(param): prb += np.log(modParam3['pi'][classIX]) + (ar[el]*np.log(meanIX[el])-meanIX[el])\n",
    "            prob2[classIX] = prb\n",
    "        dic2[i][trial] = np.argmax(prob2)\n",
    "        if(dic2[i][trial] == i):\n",
    "            acc2 += 1\n",
    "            \n",
    "print('Accuracy: ', (arr_x*acc2/(8*91)))\n",
    "#====================================================#\n",
    "# END YOUR CODE\n",
    "#====================================================# "
   ]
  },
  {
   "cell_type": "markdown",
   "metadata": {},
   "source": [
    "#### Question:\n",
    "what is the percent of test data points correctly classified? "
   ]
  },
  {
   "cell_type": "markdown",
   "metadata": {},
   "source": [
    "#### Your answer: \n",
    "92%"
   ]
  },
  {
   "cell_type": "code",
   "execution_count": null,
   "metadata": {},
   "outputs": [],
   "source": []
  }
 ],
 "metadata": {
  "kernelspec": {
   "display_name": "Python 3 (ipykernel)",
   "language": "python",
   "name": "python3"
  },
  "language_info": {
   "codemirror_mode": {
    "name": "ipython",
    "version": 3
   },
   "file_extension": ".py",
   "mimetype": "text/x-python",
   "name": "python",
   "nbconvert_exporter": "python",
   "pygments_lexer": "ipython3",
   "version": "3.11.0"
  }
 },
 "nbformat": 4,
 "nbformat_minor": 4
}
